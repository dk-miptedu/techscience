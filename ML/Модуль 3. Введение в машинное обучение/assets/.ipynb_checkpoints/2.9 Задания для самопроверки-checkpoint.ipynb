{
 "cells": [
  {
   "cell_type": "code",
   "execution_count": 6,
   "id": "dc3c783c-48d8-43e8-bf04-f1fa99f8519b",
   "metadata": {},
   "outputs": [
    {
     "name": "stdout",
     "output_type": "stream",
     "text": [
      "[0.5 0.5]\n"
     ]
    }
   ],
   "source": [
    "import numpy as np\n",
    "from sklearn.linear_model import LinearRegression\n",
    "\n",
    "x1 = np.array([1, 2, 3, 4, 5])\n",
    "x2 = np.array([6, 7, 8, 9, 10])\n",
    "y = np.array([11, 12, 13, 14, 15])\n",
    "\n",
    "# Переформатируем векторы признаков для использования в модели\n",
    "X = np.column_stack((x1, x2))\n",
    "\n",
    "# Создаем объект модели линейной регрессии и обучаем ее на данных\n",
    "reg = LinearRegression()\n",
    "reg.fit(X, y)\n",
    "\n",
    "# Вывод вектора весов модели\n",
    "print(reg.coef_)\n"
   ]
  },
  {
   "cell_type": "code",
   "execution_count": 13,
   "id": "e2348c89-9651-4108-9161-0b5cfc374ac6",
   "metadata": {},
   "outputs": [
    {
     "name": "stdout",
     "output_type": "stream",
     "text": [
      "Предсказанное значение y: 13.0\n",
      "13.0\n",
      "13.0\n"
     ]
    }
   ],
   "source": [
    "import numpy as np\n",
    "from sklearn.linear_model import LinearRegression\n",
    "\n",
    "x1 = np.array([1, 2, 3, 4, 5])\n",
    "x2 = np.array([6, 7, 8, 9, 10])\n",
    "y = np.array([11, 12, 13, 14, 15])\n",
    "\n",
    "# Переформатируем векторы признаков для использования в модели\n",
    "X = np.column_stack((x1, x2))\n",
    "\n",
    "# Создаем объект модели линейной регрессии и обучаем ее на данных\n",
    "reg = LinearRegression()\n",
    "reg.fit(X, y)\n",
    "\n",
    "# Предсказание для новых данных x1=5, x2=6\n",
    "new_data = np.array([[5, 6]])\n",
    "predicted_y = reg.predict(new_data)\n",
    "\n",
    "print(\"Предсказанное значение y:\", predicted_y[0])\n",
    "print(round(reg.predict(np.array([[5, 6]]))[0],2))\n",
    "print(reg.predict([[5, 6]])[0])"
   ]
  },
  {
   "cell_type": "code",
   "execution_count": 14,
   "id": "1f558aff-6d7d-4c8f-9f8d-a1cba586d547",
   "metadata": {},
   "outputs": [
    {
     "name": "stdout",
     "output_type": "stream",
     "text": [
      "{'accuracy': 0.5714285714285714, 'precision': 0.6, 'recall': 0.75}\n"
     ]
    }
   ],
   "source": [
    "from sklearn.metrics import accuracy_score, precision_score, recall_score\n",
    "\n",
    "def calculate_metrics(y_true, y_pred):\n",
    "    \"\"\"\n",
    "    Рассчитывает метрики качества для бинарной классификации.\n",
    "\n",
    "    Параметры:\n",
    "    - y_true (list): Список настоящих значений бинарных классов (0 или 1).\n",
    "    - y_pred (list): Список предсказанных значений бинарных классов (0 или 1).\n",
    "\n",
    "    Возвращает:\n",
    "    - metrics (dict): Словарь, содержащий значения метрик accuracy, precision и recall.\n",
    "    \"\"\"\n",
    "    metrics = {\n",
    "        'accuracy': accuracy_score(y_true, y_pred),\n",
    "        'precision': precision_score(y_true, y_pred),\n",
    "        'recall': recall_score(y_true, y_pred)\n",
    "    }\n",
    "    \n",
    "    return metrics\n",
    "\n",
    "# Пример использования\n",
    "y_true_example = [1, 0, 1, 1, 0, 1, 0]\n",
    "y_pred_example = [1, 0, 1, 0, 1, 1, 1]\n",
    "\n",
    "result = calculate_metrics(y_true_example, y_pred_example)\n",
    "print(result)\n"
   ]
  },
  {
   "cell_type": "code",
   "execution_count": 20,
   "id": "62971338-e526-41e9-a62d-b92691f7df14",
   "metadata": {},
   "outputs": [
    {
     "name": "stdout",
     "output_type": "stream",
     "text": [
      "F1 Score на тестовой выборке: 0.71\n",
      "0.7096774193548387\n"
     ]
    }
   ],
   "source": [
    "import numpy as np\n",
    "from sklearn.model_selection import train_test_split\n",
    "from sklearn.linear_model import LogisticRegression\n",
    "from sklearn.metrics import f1_score\n",
    "\n",
    "# Искусственные данные\n",
    "X = np.random.rand(100, 5)\n",
    "y = np.random.randint(0, 2, size=100)\n",
    "\n",
    "# Разделение данных на обучающую и тестовую выборки\n",
    "X_train, X_test, y_train, y_test = train_test_split(X, y, test_size=0.2, random_state=42)\n",
    "\n",
    "# Создание и обучение модели логистической регрессии\n",
    "model = LogisticRegression()\n",
    "model.fit(X_train, y_train)\n",
    "\n",
    "# Получение предсказаний на тестовой выборке\n",
    "y_pred = model.predict(X_test)\n",
    "\n",
    "# Рассчет f1 score\n",
    "f1 = f1_score(y_test, y_pred)\n",
    "\n",
    "# Вывод результата\n",
    "print(\"F1 Score на тестовой выборке:\", round(f1, 2))\n",
    "print(f1_score(y_pred, y_test))\n"
   ]
  },
  {
   "cell_type": "code",
   "execution_count": 43,
   "id": "3a68bd59-55a7-4830-85ea-eff9445d800c",
   "metadata": {},
   "outputs": [
    {
     "name": "stdout",
     "output_type": "stream",
     "text": [
      "0.79\n"
     ]
    }
   ],
   "source": [
    "import numpy as np\n",
    "from sklearn.linear_model import LogisticRegression\n",
    "from sklearn.metrics import f1_score\n",
    "from sklearn.model_selection import train_test_split\n",
    "X = np.random.rand(100, 5)\n",
    "y = np.random.randint(0, 2, size=100)\n",
    "split_index = int(0.8 * len(X))\n",
    "X_train, X_test = X[:split_index], X[split_index:]\n",
    "y_train, y_test = y[:split_index], y[split_index:]\n",
    "model = LogisticRegression()\n",
    "model.fit(X_train, y_train)\n",
    "y_pred = model.predict(X_test)\n",
    "f1 = f1_score(y_test, y_pred)\n",
    "print(f'{f1:.2f}')"
   ]
  },
  {
   "cell_type": "code",
   "execution_count": 45,
   "id": "4648651e-157a-41f0-837b-9c675205991c",
   "metadata": {},
   "outputs": [
    {
     "name": "stdout",
     "output_type": "stream",
     "text": [
      "Accuracy: 0.91\n"
     ]
    }
   ],
   "source": [
    "from sklearn.datasets import load_iris\n",
    "from sklearn.tree import DecisionTreeClassifier\n",
    "from sklearn.model_selection import train_test_split\n",
    "from sklearn.metrics import accuracy_score\n",
    "\n",
    "# Загрузка данных\n",
    "iris = load_iris()\n",
    "\n",
    "# Разделение данных на обучающую и тестовую выборки\n",
    "X_train, X_test, y_train, y_test = train_test_split(iris.data, iris.target, test_size=0.3, random_state=41)\n",
    "\n",
    "# Создание и обучение модели решающего дерева\n",
    "tree_classifier = DecisionTreeClassifier(max_depth=3, min_samples_split=5)\n",
    "tree_classifier.fit(X_train, y_train)\n",
    "\n",
    "# Предсказание на тестовой выборке\n",
    "y_pred = tree_classifier.predict(X_test)\n",
    "\n",
    "# Вычисление accuracy\n",
    "accuracy = accuracy_score(y_test, y_pred)\n",
    "\n",
    "# Вывод результата\n",
    "print(f\"Accuracy: {accuracy:.2f}\")\n"
   ]
  },
  {
   "cell_type": "code",
   "execution_count": 46,
   "id": "8a5b4a72-91a7-43fc-988f-613f5062c395",
   "metadata": {},
   "outputs": [
    {
     "name": "stdout",
     "output_type": "stream",
     "text": [
      "Accuracy случайного леса: 1.0\n",
      "Accuracy градиентного бустинга: 1.0\n"
     ]
    }
   ],
   "source": [
    "from sklearn.datasets import load_iris\n",
    "from sklearn.model_selection import train_test_split\n",
    "from sklearn.ensemble import RandomForestClassifier, GradientBoostingClassifier\n",
    "from sklearn.metrics import accuracy_score\n",
    "import numpy as np\n",
    "\n",
    "# Загрузка данных\n",
    "iris = load_iris()\n",
    "X = iris.data\n",
    "y = iris.target\n",
    "\n",
    "# Разделение данных на обучающую и тестовую выборки\n",
    "X_train, X_test, y_train, y_test = train_test_split(X, y, test_size=0.3, random_state=42)\n",
    "\n",
    "# Обучение модели случайного леса\n",
    "rf_model = RandomForestClassifier(random_state=42)\n",
    "rf_model.fit(X_train, y_train)\n",
    "\n",
    "# Предсказание и вычисление accuracy для случайного леса\n",
    "rf_predictions = rf_model.predict(X_test)\n",
    "rf_acc = accuracy_score(y_test, rf_predictions)\n",
    "\n",
    "# Обучение модели градиентного бустинга\n",
    "gb_model = GradientBoostingClassifier(random_state=42)\n",
    "gb_model.fit(X_train, y_train)\n",
    "\n",
    "# Предсказание и вычисление accuracy для градиентного бустинга\n",
    "gb_predictions = gb_model.predict(X_test)\n",
    "gb_acc = accuracy_score(y_test, gb_predictions)\n",
    "\n",
    "# Вывод результатов\n",
    "print(\"Accuracy случайного леса:\", round(rf_acc, 2))\n",
    "print(\"Accuracy градиентного бустинга:\", round(gb_acc, 2))\n"
   ]
  }
 ],
 "metadata": {
  "kernelspec": {
   "display_name": "Python 3 (ipykernel)",
   "language": "python",
   "name": "python3"
  },
  "language_info": {
   "codemirror_mode": {
    "name": "ipython",
    "version": 3
   },
   "file_extension": ".py",
   "mimetype": "text/x-python",
   "name": "python",
   "nbconvert_exporter": "python",
   "pygments_lexer": "ipython3",
   "version": "3.10.12"
  }
 },
 "nbformat": 4,
 "nbformat_minor": 5
}
