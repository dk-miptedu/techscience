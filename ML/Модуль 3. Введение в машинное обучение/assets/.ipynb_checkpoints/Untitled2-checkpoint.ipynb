{
 "cells": [
  {
   "cell_type": "code",
   "execution_count": null,
   "id": "1e6bc9b6-a7ca-4d8a-aa18-bb392bd36261",
   "metadata": {},
   "outputs": [],
   "source": [
    "!pip install spacy -q"
   ]
  },
  {
   "cell_type": "code",
   "execution_count": null,
   "id": "ae1cd0cf-9a62-4737-818e-86c4cbaf8adc",
   "metadata": {},
   "outputs": [],
   "source": [
    "!python -m spacy download en_core_web_sm"
   ]
  },
  {
   "cell_type": "raw",
   "id": "af1a13b3-7836-4286-ae15-34393ef4888b",
   "metadata": {},
   "source": [
    "Напишите программу, которая рассчитывает косинус угла между словами cat и cow, используя библиотеку spacy и модель en_core_web_sm для векторизации слов. \n",
    "\n",
    "Напишите код программы в самостоятельно созданном Python-ноутбуке. Вы можете использовать следующий код, чтобы начать писать программу:\n",
    "\n",
    "import spacy\n",
    "import numpy as np\n",
    "nlp = spacy.load('en_core_web_sm')\n",
    "word_1 = 'cat'\n",
    "word_2 = 'cow'\n",
    "Результат вычислений округлите до 3-х знаков после запятой"
   ]
  },
  {
   "cell_type": "code",
   "execution_count": 6,
   "id": "33aa5c75-a6fd-46d4-8dd8-eca65b4e7423",
   "metadata": {},
   "outputs": [
    {
     "name": "stdout",
     "output_type": "stream",
     "text": [
      "Косинус угла между 'cat' и 'cow': 0.775\n"
     ]
    }
   ],
   "source": [
    "import spacy\n",
    "import numpy as np\n",
    "\n",
    "# Загрузка модели en_core_web_sm\n",
    "nlp = spacy.load('en_core_web_sm')\n",
    "\n",
    "# Заданные слова\n",
    "word_1 = 'cat'\n",
    "word_2 = 'cow'\n",
    "\n",
    "# Получение векторов для слов\n",
    "vector_cat = nlp(word_1).vector\n",
    "vector_cow = nlp(word_2).vector\n",
    "\n",
    "# Вычисление косинуса угла между векторами\n",
    "cosine_similarity = np.dot(vector_cat, vector_cow) / (np.linalg.norm(vector_cat) * np.linalg.norm(vector_cow))\n",
    "\n",
    "# Округление результата до 3 знаков после запятой\n",
    "cosine_similarity = round(cosine_similarity, 3)\n",
    "\n",
    "# Вывод результата\n",
    "print(f\"Косинус угла между '{word_1}' и '{word_2}': {cosine_similarity:0.3f}\")\n"
   ]
  },
  {
   "cell_type": "code",
   "execution_count": null,
   "id": "e152ff0c-eb07-4228-97f4-b87fa00238e9",
   "metadata": {},
   "outputs": [],
   "source": [
    "Расчет косинусной меры между предложениями\n",
    "\n",
    "Напишите программу, которая будет сравнивать два предложения и выводить значение косинусной меры угла между их векторными представлениями.\n",
    "\n",
    "Предложения могут быть любыми, например:\n",
    "●\t«Сегодня очень холодно на улице» и «На улице сегодня очень холодно»;\n",
    "\n",
    "●\t«Обезьяны любят бананы» и «Собаки не любят молоко».\n",
    "\n",
    "Программа должна выводить значение косинусной меры угла между векторами, которые соответствуют каждому из предложений.\n",
    "\n",
    "Для решения данной задачи вам понадобится библиотека spacy и модель для работы с русским языком. Используйте следующий код для их установки:\n",
    "\n",
    "!pip install spacy\n",
    "!python -m spacy download ru_core_news_lg\n",
    "\n",
    "Далее выполните импорт библиотеки spacy и русскоязычной модели ru_core_news_lg:\n",
    "\n",
    "import spacy\n",
    "nlp = spacy.load(\"ru_core_news_lg\")\n",
    "\n",
    "Сохраните код вашей программы в отдельный файл и загрузите решение в LMS."
   ]
  },
  {
   "cell_type": "code",
   "execution_count": null,
   "id": "8dbef2ab-ed2f-4200-94a7-07ec7cf5fdda",
   "metadata": {},
   "outputs": [],
   "source": [
    "!python -m spacy download ru_core_news_lg"
   ]
  },
  {
   "cell_type": "code",
   "execution_count": 8,
   "id": "80cdc860-b658-4198-a8c5-efc7a9f51d40",
   "metadata": {},
   "outputs": [
    {
     "name": "stdout",
     "output_type": "stream",
     "text": [
      "Косинусная мера угла между предложениями: 0.9280714988708496\n"
     ]
    }
   ],
   "source": [
    "import spacy\n",
    "\n",
    "# Загрузка русскоязычной модели\n",
    "nlp = spacy.load(\"ru_core_news_lg\")\n",
    "\n",
    "# Функция для вычисления косинусной меры угла между двумя предложениями\n",
    "def calculate_cosine_similarity(sentence1, sentence2):\n",
    "    vector1 = nlp(sentence1).vector\n",
    "    vector2 = nlp(sentence2).vector\n",
    "\n",
    "    # Вычисление косинуса угла между векторами\n",
    "    cosine_similarity = vector1.dot(vector2) / (np.linalg.norm(vector1) * np.linalg.norm(vector2))\n",
    "\n",
    "    return cosine_similarity\n",
    "\n",
    "# Пример предложений для сравнения\n",
    "sentence1 = \"Сегодня очень холодно на улице\"\n",
    "sentence2 = \"На улице сегодня очень холодно\"\n",
    "\n",
    "# Вычисление косинусной меры угла между предложениями\n",
    "cosine_similarity = calculate_cosine_similarity(sentence1, sentence2)\n",
    "\n",
    "# Вывод результата\n",
    "print(f\"Косинусная мера угла между предложениями: {cosine_similarity}\")\n"
   ]
  }
 ],
 "metadata": {
  "kernelspec": {
   "display_name": "Python 3 (ipykernel)",
   "language": "python",
   "name": "python3"
  },
  "language_info": {
   "codemirror_mode": {
    "name": "ipython",
    "version": 3
   },
   "file_extension": ".py",
   "mimetype": "text/x-python",
   "name": "python",
   "nbconvert_exporter": "python",
   "pygments_lexer": "ipython3",
   "version": "3.10.12"
  }
 },
 "nbformat": 4,
 "nbformat_minor": 5
}
