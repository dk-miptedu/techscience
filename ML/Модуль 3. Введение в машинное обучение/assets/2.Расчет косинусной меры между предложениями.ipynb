{
 "cells": [
  {
   "cell_type": "code",
   "execution_count": null,
   "id": "81b66086-0c8f-455e-b20b-63258223a5c7",
   "metadata": {},
   "outputs": [],
   "source": [
    "!pip install spacy -q"
   ]
  },
  {
   "cell_type": "code",
   "execution_count": null,
   "id": "cd530e9d-a62a-41fd-8663-0c8c27ea9e8d",
   "metadata": {},
   "outputs": [],
   "source": [
    "!python -m spacy download ru_core_news_lg"
   ]
  },
  {
   "cell_type": "markdown",
   "id": "91620a4b-6698-41af-b85e-5ee4defda1f9",
   "metadata": {},
   "source": [
    "# Расчет косинусной меры между предложениями\n",
    "\n",
    "Напишите программу, которая будет сравнивать два предложения и выводить значение косинусной меры угла между их векторными представлениями.\n",
    "\n",
    "Предложения могут быть любыми, например:\n",
    "●\t«Сегодня очень холодно на улице» и «На улице сегодня очень холодно»;\n",
    "●\t«Обезьяны любят бананы» и «Собаки не любят молоко».\n",
    "\n",
    "Программа должна выводить значение косинусной меры угла между векторами, которые соответствуют каждому из предложений.\n",
    "\n",
    "Для решения данной задачи вам понадобится библиотека spacy и модель для работы с русским языком. Используйте следующий код для их установки:\n",
    "\n",
    "!pip install spacy\n",
    "!python -m spacy download ru_core_news_lg\n",
    "\n",
    "Далее выполните импорт библиотеки spacy и русскоязычной модели ru_core_news_lg:\n",
    "\n",
    "import spacy\n",
    "nlp = spacy.load(\"ru_core_news_lg\")\n",
    "\n",
    "Сохраните код вашей программы в отдельный файл и загрузите решение в LMS."
   ]
  },
  {
   "cell_type": "code",
   "execution_count": 2,
   "id": "22399807-876d-4201-87d0-31334f544964",
   "metadata": {},
   "outputs": [
    {
     "name": "stdout",
     "output_type": "stream",
     "text": [
      "Косинусная мера угла между предложениями: 0.9280714988708496\n"
     ]
    }
   ],
   "source": [
    "import spacy\n",
    "import numpy as np\n",
    "# Загрузка русскоязычной модели\n",
    "nlp = spacy.load(\"ru_core_news_lg\")\n",
    "\n",
    "# Функция для вычисления косинусной меры угла между двумя предложениями\n",
    "def calculate_cosine_similarity(sentence1, sentence2):\n",
    "    vector1 = nlp(sentence1).vector\n",
    "    vector2 = nlp(sentence2).vector\n",
    "\n",
    "    # Вычисление косинуса угла между векторами\n",
    "    cosine_similarity = vector1.dot(vector2) / (np.linalg.norm(vector1) * np.linalg.norm(vector2))\n",
    "\n",
    "    return cosine_similarity\n",
    "\n",
    "# Пример предложений для сравнения\n",
    "sentence1 = \"Сегодня очень холодно на улице\"\n",
    "sentence2 = \"На улице сегодня очень холодно\"\n",
    "\n",
    "# Вычисление косинусной меры угла между предложениями\n",
    "cosine_similarity = calculate_cosine_similarity(sentence1, sentence2)\n",
    "\n",
    "# Вывод результата\n",
    "print(f\"Косинусная мера угла между предложениями: {cosine_similarity}\")\n"
   ]
  },
  {
   "cell_type": "code",
   "execution_count": null,
   "id": "7c7844a9-4f5b-4323-a739-04f8befa3e7c",
   "metadata": {},
   "outputs": [],
   "source": [
    "!pip install --pre --extra-index https://pypi.anaconda.org/scientific-python-nightly-wheels/simple pandas"
   ]
  },
  {
   "cell_type": "code",
   "execution_count": null,
   "id": "e7760386-c837-40c7-b0f0-1d5ad540c77f",
   "metadata": {},
   "outputs": [],
   "source": [
    "!pip install scikit-learn"
   ]
  },
  {
   "cell_type": "markdown",
   "id": "b23e9f13-b257-47f8-a65a-e0f842f57c00",
   "metadata": {},
   "source": [
    "## 1. Загрузите датасет:"
   ]
  },
  {
   "cell_type": "code",
   "execution_count": 2,
   "id": "42b95715-a444-4d75-b1fe-a9c61bd08e2d",
   "metadata": {},
   "outputs": [
    {
     "name": "stdout",
     "output_type": "stream",
     "text": [
      "<class 'pandas.core.frame.DataFrame'>\n",
      "RangeIndex: 10 entries, 0 to 9\n",
      "Data columns (total 2 columns):\n",
      " #   Column        Non-Null Count  Dtype \n",
      "---  ------        --------------  ----- \n",
      " 0   product_name  10 non-null     object\n",
      " 1   description   10 non-null     object\n",
      "dtypes: object(2)\n",
      "memory usage: 288.0+ bytes\n"
     ]
    }
   ],
   "source": [
    "import pandas as pd\n",
    "import numpy as np\n",
    "\n",
    "# путь к файлу с данными\n",
    "file_path = './product_description.csv'\n",
    "data = pd.read_csv(file_path)\n",
    "data.info()"
   ]
  },
  {
   "cell_type": "markdown",
   "id": "5d089657-699e-43b3-953b-426a54ebee34",
   "metadata": {},
   "source": [
    "## 2. Импортируйте библиотеки и загрузите модель spaCy:"
   ]
  },
  {
   "cell_type": "code",
   "execution_count": null,
   "id": "fd34cc76-323a-4d7a-b450-b403e9eeb711",
   "metadata": {},
   "outputs": [],
   "source": [
    "import spacy\n",
    "from sklearn.feature_extraction.text import TfidfVectorizer\n",
    "from sklearn.metrics.pairwise import cosine_similarity\n",
    "\n",
    "nlp = spacy.load('en_core_web_sm')"
   ]
  },
  {
   "cell_type": "markdown",
   "id": "d92ea2a5-fb74-46ab-ada4-add9d656006c",
   "metadata": {},
   "source": [
    "## 3. Проведите предобработку текста:"
   ]
  },
  {
   "cell_type": "code",
   "execution_count": 7,
   "id": "02b938e9-1d91-412d-ab86-bd892324d79a",
   "metadata": {},
   "outputs": [],
   "source": [
    "def preprocess_text(text):\n",
    "    doc = nlp(text)\n",
    "    tokens = [token.lemma_.lower() for token in doc if not token.is_stop and not token.is_punct]\n",
    "    return \" \".join(tokens)\n",
    "\n",
    "data['processed_text'] = data['description'].apply(preprocess_text)\n"
   ]
  },
  {
   "cell_type": "markdown",
   "id": "8d4e9d26-1fb2-4db5-b82d-7b3155a10a08",
   "metadata": {},
   "source": [
    "## 4. Создайте матрицу векторов для каждого товара:"
   ]
  },
  {
   "cell_type": "code",
   "execution_count": 8,
   "id": "66dc44d9-675e-4240-a936-c0048fd37c36",
   "metadata": {},
   "outputs": [],
   "source": [
    "vectorizer = TfidfVectorizer()\n",
    "vectors = vectorizer.fit_transform(data['processed_text'])"
   ]
  },
  {
   "cell_type": "markdown",
   "id": "37711a3a-809a-4f94-99fb-1bf86170222f",
   "metadata": {},
   "source": [
    "## 5. Рассчитайте косинусную меру угла между каждой парой товаров:"
   ]
  },
  {
   "cell_type": "code",
   "execution_count": 9,
   "id": "4ea63840-3bf1-40e0-a81d-a7f4f9d9ee0a",
   "metadata": {},
   "outputs": [],
   "source": [
    "cosine_similarities = cosine_similarity(vectors, vectors)\n"
   ]
  },
  {
   "cell_type": "markdown",
   "id": "018fd516-25aa-4fe2-bf9c-4f786bf086dd",
   "metadata": {},
   "source": [
    "## 6. Отобразите топ-5 товаров, которые наиболее похожи друг на друга:"
   ]
  },
  {
   "cell_type": "code",
   "execution_count": 10,
   "id": "6d8e951d-67c2-4685-ac6d-40c26f2ba8f4",
   "metadata": {},
   "outputs": [
    {
     "name": "stdout",
     "output_type": "stream",
     "text": [
      "\n",
      "Товар: Chair\n",
      "Топ-5 похожих товаров:\n",
      "product_name\n",
      "Table       0.259388\n",
      "Sofa        0.250551\n",
      "Bed         0.245618\n",
      "Desk        0.114700\n",
      "TV Stand    0.097587\n",
      "Name: Chair, dtype: float64\n",
      "\n",
      "Товар: Sofa\n",
      "Топ-5 похожих товаров:\n",
      "product_name\n",
      "Chair        0.250551\n",
      "Ottoman      0.162586\n",
      "Bookshelf    0.130098\n",
      "Dresser      0.089156\n",
      "TV Stand     0.073339\n",
      "Name: Sofa, dtype: float64\n",
      "\n",
      "Товар: Table\n",
      "Топ-5 похожих товаров:\n",
      "product_name\n",
      "Chair      0.259388\n",
      "Dresser    0.240962\n",
      "Ottoman    0.168011\n",
      "Bed        0.089414\n",
      "Sofa       0.058870\n",
      "Name: Table, dtype: float64\n",
      "\n",
      "Товар: Bed\n",
      "Топ-5 похожих товаров:\n",
      "product_name\n",
      "Chair       0.245618\n",
      "Table       0.089414\n",
      "TV Stand    0.088048\n",
      "Dresser     0.024477\n",
      "Ottoman     0.021287\n",
      "Name: Bed, dtype: float64\n",
      "\n",
      "Товар: Bookshelf\n",
      "Топ-5 похожих товаров:\n",
      "product_name\n",
      "TV Stand    0.219247\n",
      "Cabinet     0.158807\n",
      "Sofa        0.130098\n",
      "Dresser     0.104825\n",
      "Ottoman     0.020847\n",
      "Name: Bookshelf, dtype: float64\n",
      "\n",
      "Товар: Desk\n",
      "Топ-5 похожих товаров:\n",
      "product_name\n",
      "Dresser    0.225568\n",
      "Chair      0.114700\n",
      "Cabinet    0.096091\n",
      "Ottoman    0.022343\n",
      "Table      0.021462\n",
      "Name: Desk, dtype: float64\n",
      "\n",
      "Товар: Ottoman\n",
      "Топ-5 похожих товаров:\n",
      "product_name\n",
      "Dresser    0.250857\n",
      "Table      0.168011\n",
      "Sofa       0.162586\n",
      "Chair      0.086495\n",
      "Cabinet    0.024438\n",
      "Name: Ottoman, dtype: float64\n",
      "\n",
      "Товар: Cabinet\n",
      "Топ-5 похожих товаров:\n",
      "product_name\n",
      "TV Stand     0.179047\n",
      "Bookshelf    0.158807\n",
      "Dresser      0.122881\n",
      "Desk         0.096091\n",
      "Ottoman      0.024438\n",
      "Name: Cabinet, dtype: float64\n",
      "\n",
      "Товар: Dresser\n",
      "Топ-5 похожих товаров:\n",
      "product_name\n",
      "Ottoman      0.250857\n",
      "Table        0.240962\n",
      "Desk         0.225568\n",
      "Cabinet      0.122881\n",
      "Bookshelf    0.104825\n",
      "Name: Dresser, dtype: float64\n",
      "\n",
      "Товар: TV Stand\n",
      "Топ-5 похожих товаров:\n",
      "product_name\n",
      "Bookshelf    0.219247\n",
      "Cabinet      0.179047\n",
      "Chair        0.097587\n",
      "Bed          0.088048\n",
      "Sofa         0.073339\n",
      "Name: TV Stand, dtype: float64\n"
     ]
    }
   ],
   "source": [
    "## # Создайте DataFrame для удобства работы с результатами\n",
    "cosine_similarity_df = pd.DataFrame(cosine_similarities, columns=data['product_name'], index=data['product_name'])\n",
    "\n",
    "# Выведите топ-5 похожих товаров для каждого товара\n",
    "for product_name in data['product_name']:\n",
    "    similar_products = cosine_similarity_df[product_name].sort_values(ascending=False)[1:6]\n",
    "    print(f\"\\nТовар: {product_name}\\nТоп-5 похожих товаров:\\n{similar_products}\")\n"
   ]
  }
 ],
 "metadata": {
  "kernelspec": {
   "display_name": "Python 3 (ipykernel)",
   "language": "python",
   "name": "python3"
  },
  "language_info": {
   "codemirror_mode": {
    "name": "ipython",
    "version": 3
   },
   "file_extension": ".py",
   "mimetype": "text/x-python",
   "name": "python",
   "nbconvert_exporter": "python",
   "pygments_lexer": "ipython3",
   "version": "3.10.12"
  }
 },
 "nbformat": 4,
 "nbformat_minor": 5
}
