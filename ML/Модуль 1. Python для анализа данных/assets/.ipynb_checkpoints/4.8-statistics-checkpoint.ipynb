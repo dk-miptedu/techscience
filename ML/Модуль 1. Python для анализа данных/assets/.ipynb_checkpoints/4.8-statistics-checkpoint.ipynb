{
 "cells": [
  {
   "cell_type": "markdown",
   "metadata": {
    "id": "o-YllQwWHnQK"
   },
   "source": [
    "# Статистика вывода"
   ]
  },
  {
   "cell_type": "markdown",
   "metadata": {
    "id": "QyjXhLbtHs-7"
   },
   "source": [
    "## Расчет размера выборки"
   ]
  },
  {
   "cell_type": "markdown",
   "metadata": {
    "id": "RiA26fxiH76S"
   },
   "source": [
    "**Генеральная совокупность (N)** — это весь набор объектов, о которых мы хотим получить информацию.\n",
    "\n",
    "**Выборка (n)** — подмножество объектов из генеральной совокупности."
   ]
  },
  {
   "cell_type": "markdown",
   "metadata": {
    "id": "aJ954RZIIQjC"
   },
   "source": [
    "Задача: определить размер выборки для исследования с доверительным уровнем в 95% и ошибкой не более 4%."
   ]
  },
  {
   "cell_type": "code",
   "execution_count": null,
   "metadata": {
    "colab": {
     "base_uri": "https://localhost:8080/"
    },
    "executionInfo": {
     "elapsed": 662,
     "status": "ok",
     "timestamp": 1687152532766,
     "user": {
      "displayName": "Надежда Тупикина",
      "userId": "16854253095026240007"
     },
     "user_tz": -420
    },
    "id": "jyL2pwrHHkqz",
    "outputId": "b8127cb5-30dc-452c-b01f-df1dc358fd2c"
   },
   "outputs": [
    {
     "data": {
      "text/plain": [
       "600"
      ]
     },
     "execution_count": 3,
     "metadata": {},
     "output_type": "execute_result"
    }
   ],
   "source": [
    "import scipy.stats as st\n",
    "conf = 0.95 #доверительный уровень в долях\n",
    "Z = st.norm.ppf(conf + (1-conf)/2)\n",
    "p = 0.5\n",
    "q = 1 - p\n",
    "delta = 0.04 #ошибка в долях\n",
    "\n",
    "round(((Z**2)*p*q)/delta**2)\n"
   ]
  },
  {
   "cell_type": "markdown",
   "metadata": {
    "id": "5JpjtdTVIdmS"
   },
   "source": [
    "## Доверительный интервал"
   ]
  },
  {
   "cell_type": "markdown",
   "metadata": {
    "id": "HWgxPgKUIl_K"
   },
   "source": [
    "**Доверительный интервал** — это такой интервал,\t который покрывает неизвестный параметр с заданной надежностью. Чем меньше выборка, тем в большей степени доверительный интервал предпочтительнее точечной оценки.\n",
    "\n",
    "**Надежность** — вероятность того, что оценка параметра принадлежит доверительному интервалу. Часто также используют термин **статистическая значимость**, которая определяется как (1 — надежность).\n",
    "\n"
   ]
  },
  {
   "cell_type": "code",
   "execution_count": null,
   "metadata": {
    "id": "qIonKsI6IoDj"
   },
   "outputs": [],
   "source": [
    "import numpy as np\n",
    "\n",
    "data = [187, 185, 165, 145, 152, 168, 172, 179, 180, 195, 168, 168, 170, 172, 160]"
   ]
  },
  {
   "cell_type": "code",
   "execution_count": null,
   "metadata": {
    "colab": {
     "base_uri": "https://localhost:8080/"
    },
    "executionInfo": {
     "elapsed": 252,
     "status": "ok",
     "timestamp": 1687152798758,
     "user": {
      "displayName": "Надежда Тупикина",
      "userId": "16854253095026240007"
     },
     "user_tz": -420
    },
    "id": "fos9yhEGIwmC",
    "outputId": "8da50249-1370-42fd-8e27-d62018460087"
   },
   "outputs": [
    {
     "name": "stdout",
     "output_type": "stream",
     "text": [
      "(165.11615700777816, 177.01717632555517)\n"
     ]
    }
   ],
   "source": [
    "#90% надежность\n",
    "print(st.t.interval(confidence=0.90, df=len(data)-1,  loc=np.mean(data), scale=st.sem(data)))"
   ]
  },
  {
   "cell_type": "code",
   "execution_count": null,
   "metadata": {
    "colab": {
     "base_uri": "https://localhost:8080/"
    },
    "executionInfo": {
     "elapsed": 285,
     "status": "ok",
     "timestamp": 1687152810289,
     "user": {
      "displayName": "Надежда Тупикина",
      "userId": "16854253095026240007"
     },
     "user_tz": -420
    },
    "id": "hyVLdJovIwrq",
    "outputId": "7cb71560-adf5-41a4-f7ef-0b6ab0a8e030"
   },
   "outputs": [
    {
     "name": "stdout",
     "output_type": "stream",
     "text": [
      "(163.82059816147947, 178.31273517185386)\n"
     ]
    }
   ],
   "source": [
    "#95% надежность\n",
    "print(st.t.interval(confidence=0.95, df=len(data)-1, loc=np.mean(data), scale=st.sem(data)))\n"
   ]
  },
  {
   "cell_type": "code",
   "execution_count": null,
   "metadata": {
    "colab": {
     "base_uri": "https://localhost:8080/"
    },
    "executionInfo": {
     "elapsed": 4,
     "status": "ok",
     "timestamp": 1687152808865,
     "user": {
      "displayName": "Надежда Тупикина",
      "userId": "16854253095026240007"
     },
     "user_tz": -420
    },
    "id": "QMZLCzqHIwyU",
    "outputId": "f3df2907-c19a-4a17-ea80-afa0fe479dc5"
   },
   "outputs": [
    {
     "name": "stdout",
     "output_type": "stream",
     "text": [
      "(161.00953301227102, 181.1238003210623)\n"
     ]
    }
   ],
   "source": [
    "#99% надежность\n",
    "print(st.t.interval(confidence=0.99, df=len(data)-1, loc=np.mean(data), scale=st.sem(data)))"
   ]
  },
  {
   "cell_type": "markdown",
   "metadata": {
    "id": "dps9aPdPJT2a"
   },
   "source": [
    "Доверительный интервал для доли:"
   ]
  },
  {
   "cell_type": "code",
   "execution_count": null,
   "metadata": {
    "colab": {
     "base_uri": "https://localhost:8080/"
    },
    "executionInfo": {
     "elapsed": 658,
     "status": "ok",
     "timestamp": 1687152874037,
     "user": {
      "displayName": "Надежда Тупикина",
      "userId": "16854253095026240007"
     },
     "user_tz": -420
    },
    "id": "v3s1zDFZJVUq",
    "outputId": "89c7f1e5-0e85-4fe1-8e1f-878f9b996e33"
   },
   "outputs": [
    {
     "data": {
      "text/plain": [
       "(0.5423234184516537, 0.6976765815483463)"
      ]
     },
     "execution_count": 12,
     "metadata": {},
     "output_type": "execute_result"
    }
   ],
   "source": [
    "from statsmodels.stats.proportion import proportion_confint\n",
    "\n",
    "proportion_confint(93, 150, alpha=(1 - 0.95))"
   ]
  }
 ],
 "metadata": {
  "colab": {
   "authorship_tag": "ABX9TyO/uLSgLd/F15uhpuF7cT7r",
   "provenance": []
  },
  "jupytext": {
   "formats": "ipynb,md"
  },
  "kernelspec": {
   "display_name": "Python 3 (ipykernel)",
   "language": "python",
   "name": "python3"
  },
  "language_info": {
   "codemirror_mode": {
    "name": "ipython",
    "version": 3
   },
   "file_extension": ".py",
   "mimetype": "text/x-python",
   "name": "python",
   "nbconvert_exporter": "python",
   "pygments_lexer": "ipython3",
   "version": "3.10.12"
  }
 },
 "nbformat": 4,
 "nbformat_minor": 4
}
